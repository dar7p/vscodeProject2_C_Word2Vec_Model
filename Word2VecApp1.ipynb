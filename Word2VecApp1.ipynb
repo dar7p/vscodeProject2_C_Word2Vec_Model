{
 "cells": [
  {
   "cell_type": "code",
   "execution_count": 200,
   "metadata": {},
   "outputs": [],
   "source": [
    "import numpy as np\n",
    "import pandas as pd"
   ]
  },
  {
   "cell_type": "markdown",
   "metadata": {},
   "source": [
    "### Loading movies review corpus data, to convert into embedding feture vector using Word2Vec model pulled from gensim to play with pandas df or pyspark df, Ofcourse Pyspark.ml.feature has it too"
   ]
  },
  {
   "cell_type": "code",
   "execution_count": 201,
   "metadata": {},
   "outputs": [
    {
     "data": {
      "text/html": [
       "<div>\n",
       "<style scoped>\n",
       "    .dataframe tbody tr th:only-of-type {\n",
       "        vertical-align: middle;\n",
       "    }\n",
       "\n",
       "    .dataframe tbody tr th {\n",
       "        vertical-align: top;\n",
       "    }\n",
       "\n",
       "    .dataframe thead th {\n",
       "        text-align: right;\n",
       "    }\n",
       "</style>\n",
       "<table border=\"1\" class=\"dataframe\">\n",
       "  <thead>\n",
       "    <tr style=\"text-align: right;\">\n",
       "      <th></th>\n",
       "      <th>Review</th>\n",
       "    </tr>\n",
       "  </thead>\n",
       "  <tbody>\n",
       "    <tr>\n",
       "      <th>0</th>\n",
       "      <td>The Da Vinci Code book is just awesome.</td>\n",
       "    </tr>\n",
       "    <tr>\n",
       "      <th>1</th>\n",
       "      <td>this was the first clive cussler i've ever rea...</td>\n",
       "    </tr>\n",
       "    <tr>\n",
       "      <th>2</th>\n",
       "      <td>i liked the Da Vinci Code a lot.</td>\n",
       "    </tr>\n",
       "    <tr>\n",
       "      <th>3</th>\n",
       "      <td>i liked the Da Vinci Code a lot.</td>\n",
       "    </tr>\n",
       "    <tr>\n",
       "      <th>4</th>\n",
       "      <td>I liked the Da Vinci Code but it ultimatly did...</td>\n",
       "    </tr>\n",
       "    <tr>\n",
       "      <th>...</th>\n",
       "      <td>...</td>\n",
       "    </tr>\n",
       "    <tr>\n",
       "      <th>7082</th>\n",
       "      <td>So Brokeback Mountain was really depressing.</td>\n",
       "    </tr>\n",
       "    <tr>\n",
       "      <th>7083</th>\n",
       "      <td>As I sit here, watching the MTV Movie Awards, ...</td>\n",
       "    </tr>\n",
       "    <tr>\n",
       "      <th>7084</th>\n",
       "      <td>Ok brokeback mountain is such a horrible movie.</td>\n",
       "    </tr>\n",
       "    <tr>\n",
       "      <th>7085</th>\n",
       "      <td>Oh, and Brokeback Mountain was a terrible movie.</td>\n",
       "    </tr>\n",
       "    <tr>\n",
       "      <th>7086</th>\n",
       "      <td>Oh, and Brokeback Mountain was a terrible movie.</td>\n",
       "    </tr>\n",
       "  </tbody>\n",
       "</table>\n",
       "<p>7087 rows × 1 columns</p>\n",
       "</div>"
      ],
      "text/plain": [
       "                                                 Review\n",
       "0               The Da Vinci Code book is just awesome.\n",
       "1     this was the first clive cussler i've ever rea...\n",
       "2                      i liked the Da Vinci Code a lot.\n",
       "3                      i liked the Da Vinci Code a lot.\n",
       "4     I liked the Da Vinci Code but it ultimatly did...\n",
       "...                                                 ...\n",
       "7082       So Brokeback Mountain was really depressing.\n",
       "7083  As I sit here, watching the MTV Movie Awards, ...\n",
       "7084    Ok brokeback mountain is such a horrible movie.\n",
       "7085   Oh, and Brokeback Mountain was a terrible movie.\n",
       "7086   Oh, and Brokeback Mountain was a terrible movie.\n",
       "\n",
       "[7087 rows x 1 columns]"
      ]
     },
     "execution_count": 201,
     "metadata": {},
     "output_type": "execute_result"
    }
   ],
   "source": [
    "df1 = pd.read_csv('Movie_reviews.csv', sep=',', encoding='utf-8', encoding_errors='ignore')\n",
    "df2 = pd.DataFrame(df1['Review'])\n",
    "df2"
   ]
  },
  {
   "cell_type": "markdown",
   "metadata": {},
   "source": [
    "### Tokenizing corpus, no need to remove stop words from tokenized_corpus, since we are dealing with Word2vec model, which is prediction based model unlike other frequency based model such as BaselineBOG, countVector, TFIDF"
   ]
  },
  {
   "cell_type": "code",
   "execution_count": 202,
   "metadata": {},
   "outputs": [],
   "source": [
    "from nltk.tokenize import sent_tokenize, word_tokenize\n",
    "import gensim\n",
    "from gensim.models import Word2Vec"
   ]
  },
  {
   "cell_type": "code",
   "execution_count": 203,
   "metadata": {},
   "outputs": [],
   "source": [
    "import pandas as pd\n",
    "import numpy as np\n",
    "import matplotlib.pyplot as plt \n",
    "import seaborn as sns\n",
    "import gensim\n",
    "import gensim.downloader as api\n",
    "from gensim.models import word2vec \n",
    "from gensim.models.word2vec import Word2Vec\n",
    "from gensim.models import KeyedVectors\n",
    "from sklearn.decomposition import PCA\n",
    "from sklearn.ensemble import RandomForestClassifier\n",
    "from sklearn.model_selection import train_test_split\n",
    "from sklearn.model_selection import cross_val_score, cross_validate\n",
    "from sklearn.metrics import  accuracy_score"
   ]
  },
  {
   "cell_type": "code",
   "execution_count": 204,
   "metadata": {},
   "outputs": [],
   "source": [
    "#df = pd.read_csv('bbc_data.csv')\n",
    "    \n",
    "# train test split\n",
    "X = df2['Review'].apply(gensim.utils.simple_preprocess)"
   ]
  },
  {
   "cell_type": "code",
   "execution_count": 205,
   "metadata": {},
   "outputs": [
    {
     "data": {
      "text/plain": [
       "0      [the, da, vinci, code, book, is, just, awesome]\n",
       "1    [this, was, the, first, clive, cussler, ve, ev...\n",
       "2                   [liked, the, da, vinci, code, lot]\n",
       "3                   [liked, the, da, vinci, code, lot]\n",
       "4    [liked, the, da, vinci, code, but, it, ultimat...\n",
       "Name: Review, dtype: object"
      ]
     },
     "execution_count": 205,
     "metadata": {},
     "output_type": "execute_result"
    }
   ],
   "source": [
    "X.head(5)#,type(X)"
   ]
  },
  {
   "cell_type": "code",
   "execution_count": 206,
   "metadata": {},
   "outputs": [
    {
     "name": "stdout",
     "output_type": "stream",
     "text": [
      "(5315,) (1772,)\n"
     ]
    }
   ],
   "source": [
    "# train test split\n",
    "X_train, X_test = train_test_split(X, test_size=0.25, random_state=2024)         \n",
    "print(X_train.shape,X_test.shape)"
   ]
  },
  {
   "cell_type": "code",
   "execution_count": 207,
   "metadata": {},
   "outputs": [],
   "source": [
    "w2v_model1 = Word2Vec(X_train, window=3,  vector_size=100, min_count=155, epochs=30)"
   ]
  },
  {
   "cell_type": "code",
   "execution_count": 208,
   "metadata": {},
   "outputs": [],
   "source": [
    "type(X_train)\n",
    "\n",
    "w2v_model2 = Word2Vec(X_train, min_count = 150,vector_size= 100, window = 5, sg=0, epochs=5) "
   ]
  },
  {
   "cell_type": "code",
   "execution_count": 209,
   "metadata": {},
   "outputs": [
    {
     "data": {
      "text/plain": [
       "47"
      ]
     },
     "execution_count": 209,
     "metadata": {},
     "output_type": "execute_result"
    }
   ],
   "source": [
    "words = set(w2v_model2.wv.index_to_key) # Vocab/dictionary : unique collection of words\n",
    "len(words)\n"
   ]
  },
  {
   "cell_type": "markdown",
   "metadata": {},
   "source": [
    "### This part is mainly to remove stop words from Words/dictionary/vocabulary of word2vec model, to later filter out some of unnecessarily showing words in Vocabulary Vector 2d/3d graphs"
   ]
  },
  {
   "cell_type": "code",
   "execution_count": 210,
   "metadata": {},
   "outputs": [
    {
     "name": "stdout",
     "output_type": "stream",
     "text": [
      "['really', 'loved', 'much', 'like', 'potter', 'love', 'sucked', 'da', 'awesome', 'harry', 'hate', 'one', 'impossible', 'code', 'movie', 'mission', 'suck', 'sucks', 'mountain', 'movies', 'vinci', 'brokeback', 'want', 'know']\n"
     ]
    }
   ],
   "source": [
    "import nltk\n",
    "from nltk.corpus import stopwords\n",
    " \n",
    "#nltk.download('stopwords')\n",
    "#print(stopwords.words('english'))\n",
    "\n",
    "from nltk.corpus import stopwords\n",
    "from nltk.tokenize import word_tokenize\n",
    "\n",
    "example_sent = \"\"\"This is a sample sentence,\n",
    "\t\t\t\tshowing off the stop words filtration.\"\"\"\n",
    "\n",
    "stop_words = set(stopwords.words('english'))\n",
    "\n",
    "####word_tokens = word_tokenize(example_sent)\n",
    "word_tokens = words\n",
    "# converts the words in word_tokens to lower case and then checks whether \n",
    "#they are present in stop_words or not\n",
    "filtered_sentence = [w for w in word_tokens if not w.lower() in stop_words]\n",
    "#with no lower case conversion\n",
    "filtered_sentence = []\n",
    "\n",
    "for w in word_tokens:\n",
    "\tif w not in stop_words:\n",
    "\t\tfiltered_sentence.append(w)\n",
    "\n",
    "#print(word_tokens)\n",
    "print(filtered_sentence)\n"
   ]
  },
  {
   "cell_type": "code",
   "execution_count": 211,
   "metadata": {},
   "outputs": [
    {
     "data": {
      "text/plain": [
       "<gensim.models.keyedvectors.KeyedVectors at 0x1a0174b7df0>"
      ]
     },
     "execution_count": 211,
     "metadata": {},
     "output_type": "execute_result"
    }
   ],
   "source": [
    "#w2v_model2.wv['harry'] \n",
    "\n",
    "w2v_model2.wv"
   ]
  },
  {
   "cell_type": "code",
   "execution_count": 212,
   "metadata": {},
   "outputs": [
    {
     "name": "stdout",
     "output_type": "stream",
     "text": [
      "[ 1.21691488e-02  5.19415401e-02  4.62307921e-03  6.90705776e-02\n",
      " -4.24377397e-02 -1.43353134e-01  1.77376494e-01  2.19567597e-01\n",
      " -8.68138522e-02 -2.19648108e-01  9.20398235e-02 -1.61004037e-01\n",
      "  6.27569258e-02  9.24881771e-02 -1.53753283e-02 -6.97798058e-02\n",
      "  2.44457498e-01 -2.73149572e-02  9.50006302e-03 -3.87234837e-01\n",
      "  5.61727434e-02  8.30730125e-02  2.27845088e-01 -1.46810815e-01\n",
      " -3.02209444e-02  4.02441733e-02 -2.04025179e-01  1.20809511e-03\n",
      " -8.10296983e-02  4.29461338e-02  1.91445142e-01 -7.37542212e-02\n",
      "  1.42375410e-01 -2.27686360e-01 -1.51947081e-01  1.74864322e-01\n",
      " -2.28374987e-03 -2.08418705e-02 -1.43568218e-01 -1.53687641e-01\n",
      "  7.45177642e-02 -1.12844817e-01 -4.61071730e-03 -4.22663242e-03\n",
      "  1.06747083e-01 -1.40035927e-01 -1.29372805e-01 -1.61297783e-01\n",
      "  1.05264977e-01  7.25197047e-02 -1.71507075e-02 -1.43901691e-01\n",
      " -5.41612394e-02  1.06958288e-03 -5.95198199e-02 -1.11792320e-02\n",
      "  1.02460146e-01 -7.53219798e-02 -4.18814532e-02 -2.89796069e-02\n",
      " -1.05541563e-02 -1.94574058e-01  3.02987337e-01  1.21448144e-01\n",
      " -1.89905137e-01  2.88743854e-01 -1.62123621e-01  1.13728076e-01\n",
      " -2.72109121e-01  3.81250232e-02  6.53661638e-02  1.97593346e-01\n",
      "  2.14422897e-01  9.41473022e-02  2.25110233e-01 -5.30754626e-02\n",
      "  7.38898367e-02  8.74275267e-02 -9.02784541e-02 -3.03492328e-04\n",
      " -1.56494528e-01 -1.10281162e-01 -9.15951803e-02  1.85661465e-01\n",
      "  3.90969589e-02 -1.44718140e-01  1.65852591e-01  1.26190567e-02\n",
      "  6.88659474e-02  1.07466124e-01  1.50176406e-01  7.92222247e-02\n",
      "  1.94983464e-02 -4.34601977e-02  2.09354922e-01  5.11647575e-02\n",
      "  4.25998643e-02 -8.22863635e-03  7.27580301e-03  6.97890949e-03]\n"
     ]
    }
   ],
   "source": [
    "print(w2v_model2.wv['brokeback'] )"
   ]
  },
  {
   "cell_type": "code",
   "execution_count": 213,
   "metadata": {},
   "outputs": [],
   "source": [
    "list1 = []\n",
    "for i in filtered_sentence:\n",
    "    temp1 = w2v_model2.wv[i]\n",
    "    list1.append(temp1)"
   ]
  },
  {
   "cell_type": "code",
   "execution_count": 214,
   "metadata": {},
   "outputs": [],
   "source": [
    "n_temp = np.array(list1)"
   ]
  },
  {
   "cell_type": "code",
   "execution_count": 215,
   "metadata": {},
   "outputs": [
    {
     "data": {
      "text/plain": [
       "(24, 100)"
      ]
     },
     "execution_count": 215,
     "metadata": {},
     "output_type": "execute_result"
    }
   ],
   "source": [
    "n_temp.shape"
   ]
  },
  {
   "cell_type": "markdown",
   "metadata": {},
   "source": [
    "### Function of Document vectorization : using Word2vec Model_Vocab/dictionary_vectors\n",
    "### Additionaly, applied same function on X_train_corpus and X_test_corpus\n",
    "### and also achieved embeddings of vector sized for each doc as a result"
   ]
  },
  {
   "cell_type": "code",
   "execution_count": 216,
   "metadata": {},
   "outputs": [],
   "source": [
    "# function to vectorize data\n",
    "def sentence_vectorizer(corpus,model):\n",
    "    result = []\n",
    "    for sentence in corpus:\n",
    "        counter = 0\n",
    "        bucket = np.zeros(model.vector_size)\n",
    "        for word in sentence:\n",
    "            if word in model.wv:\n",
    "                counter = counter + 1\n",
    "                bucket = bucket+ model.wv[word]\n",
    "            else:\n",
    "                pass\n",
    "        if counter != 0 :\n",
    "            bucket = bucket / counter\n",
    "        else : \n",
    "            counter = 1\n",
    "            bucket = bucket / counter\n",
    "        \n",
    "        result.append(bucket) \n",
    "    return result\n",
    "\n",
    "# vectorize\n",
    "words = set(w2v_model1.wv.index_to_key) # Vocab/dictionary : unique collection of words\n",
    "X_train_vec1 = sentence_vectorizer(X_train,w2v_model1)\n",
    "X_test_vec1 = sentence_vectorizer(X_test,w2v_model1)\n",
    "\n",
    "# ml model since we dont have label this block won't be of any help\n",
    "# rf = RandomForestClassifier()\n",
    "# rf.fit(X_train_vec, y_train)\n"
   ]
  },
  {
   "cell_type": "code",
   "execution_count": 217,
   "metadata": {},
   "outputs": [
    {
     "data": {
      "text/plain": [
       "((5315, 100), 44)"
      ]
     },
     "execution_count": 217,
     "metadata": {},
     "output_type": "execute_result"
    }
   ],
   "source": [
    "len(X_train_vec1)\n",
    "#X_train_vec\n",
    "np.asarray(X_train_vec1).shape, len(words)"
   ]
  },
  {
   "cell_type": "code",
   "execution_count": 218,
   "metadata": {},
   "outputs": [
    {
     "data": {
      "text/html": [
       "<div>\n",
       "<style scoped>\n",
       "    .dataframe tbody tr th:only-of-type {\n",
       "        vertical-align: middle;\n",
       "    }\n",
       "\n",
       "    .dataframe tbody tr th {\n",
       "        vertical-align: top;\n",
       "    }\n",
       "\n",
       "    .dataframe thead th {\n",
       "        text-align: right;\n",
       "    }\n",
       "</style>\n",
       "<table border=\"1\" class=\"dataframe\">\n",
       "  <thead>\n",
       "    <tr style=\"text-align: right;\">\n",
       "      <th></th>\n",
       "      <th>0</th>\n",
       "      <th>1</th>\n",
       "      <th>2</th>\n",
       "      <th>3</th>\n",
       "      <th>4</th>\n",
       "      <th>5</th>\n",
       "      <th>6</th>\n",
       "      <th>7</th>\n",
       "      <th>8</th>\n",
       "      <th>9</th>\n",
       "      <th>...</th>\n",
       "      <th>90</th>\n",
       "      <th>91</th>\n",
       "      <th>92</th>\n",
       "      <th>93</th>\n",
       "      <th>94</th>\n",
       "      <th>95</th>\n",
       "      <th>96</th>\n",
       "      <th>97</th>\n",
       "      <th>98</th>\n",
       "      <th>99</th>\n",
       "    </tr>\n",
       "  </thead>\n",
       "  <tbody>\n",
       "    <tr>\n",
       "      <th>0</th>\n",
       "      <td>-0.399119</td>\n",
       "      <td>0.158941</td>\n",
       "      <td>0.359732</td>\n",
       "      <td>0.228068</td>\n",
       "      <td>0.159714</td>\n",
       "      <td>-0.207584</td>\n",
       "      <td>0.134004</td>\n",
       "      <td>0.543855</td>\n",
       "      <td>0.025050</td>\n",
       "      <td>-0.325107</td>\n",
       "      <td>...</td>\n",
       "      <td>0.170484</td>\n",
       "      <td>-0.273140</td>\n",
       "      <td>0.095198</td>\n",
       "      <td>-0.318184</td>\n",
       "      <td>0.163453</td>\n",
       "      <td>0.122348</td>\n",
       "      <td>0.247683</td>\n",
       "      <td>-0.236005</td>\n",
       "      <td>-0.194914</td>\n",
       "      <td>0.282765</td>\n",
       "    </tr>\n",
       "    <tr>\n",
       "      <th>1</th>\n",
       "      <td>-0.336276</td>\n",
       "      <td>0.166866</td>\n",
       "      <td>0.342014</td>\n",
       "      <td>0.262606</td>\n",
       "      <td>0.164136</td>\n",
       "      <td>-0.224717</td>\n",
       "      <td>0.096579</td>\n",
       "      <td>0.560788</td>\n",
       "      <td>0.027813</td>\n",
       "      <td>-0.337145</td>\n",
       "      <td>...</td>\n",
       "      <td>0.184495</td>\n",
       "      <td>-0.326959</td>\n",
       "      <td>0.055465</td>\n",
       "      <td>-0.336929</td>\n",
       "      <td>0.214748</td>\n",
       "      <td>0.129013</td>\n",
       "      <td>0.143196</td>\n",
       "      <td>-0.229438</td>\n",
       "      <td>-0.223116</td>\n",
       "      <td>0.329272</td>\n",
       "    </tr>\n",
       "    <tr>\n",
       "      <th>2</th>\n",
       "      <td>-0.420846</td>\n",
       "      <td>0.223901</td>\n",
       "      <td>0.393886</td>\n",
       "      <td>0.224797</td>\n",
       "      <td>0.218427</td>\n",
       "      <td>-0.212202</td>\n",
       "      <td>0.068077</td>\n",
       "      <td>0.562208</td>\n",
       "      <td>0.083192</td>\n",
       "      <td>-0.379857</td>\n",
       "      <td>...</td>\n",
       "      <td>0.202763</td>\n",
       "      <td>-0.359303</td>\n",
       "      <td>0.003417</td>\n",
       "      <td>-0.386649</td>\n",
       "      <td>0.212469</td>\n",
       "      <td>0.105330</td>\n",
       "      <td>0.176683</td>\n",
       "      <td>-0.254679</td>\n",
       "      <td>-0.274844</td>\n",
       "      <td>0.322174</td>\n",
       "    </tr>\n",
       "    <tr>\n",
       "      <th>3</th>\n",
       "      <td>-0.289083</td>\n",
       "      <td>0.108173</td>\n",
       "      <td>0.360716</td>\n",
       "      <td>0.285431</td>\n",
       "      <td>0.112576</td>\n",
       "      <td>-0.234193</td>\n",
       "      <td>0.140126</td>\n",
       "      <td>0.515919</td>\n",
       "      <td>0.063611</td>\n",
       "      <td>-0.346667</td>\n",
       "      <td>...</td>\n",
       "      <td>0.188285</td>\n",
       "      <td>-0.211973</td>\n",
       "      <td>0.068379</td>\n",
       "      <td>-0.213855</td>\n",
       "      <td>0.148488</td>\n",
       "      <td>0.149818</td>\n",
       "      <td>0.147163</td>\n",
       "      <td>-0.230690</td>\n",
       "      <td>-0.248875</td>\n",
       "      <td>0.263275</td>\n",
       "    </tr>\n",
       "    <tr>\n",
       "      <th>4</th>\n",
       "      <td>-0.112917</td>\n",
       "      <td>-0.079539</td>\n",
       "      <td>-0.441825</td>\n",
       "      <td>-0.305480</td>\n",
       "      <td>-0.050707</td>\n",
       "      <td>-0.008546</td>\n",
       "      <td>0.021532</td>\n",
       "      <td>0.330980</td>\n",
       "      <td>-0.406877</td>\n",
       "      <td>-0.174533</td>\n",
       "      <td>...</td>\n",
       "      <td>-0.059573</td>\n",
       "      <td>0.336654</td>\n",
       "      <td>0.254896</td>\n",
       "      <td>0.076174</td>\n",
       "      <td>0.471847</td>\n",
       "      <td>0.078860</td>\n",
       "      <td>-0.103664</td>\n",
       "      <td>-0.016158</td>\n",
       "      <td>0.224087</td>\n",
       "      <td>-0.314572</td>\n",
       "    </tr>\n",
       "  </tbody>\n",
       "</table>\n",
       "<p>5 rows × 100 columns</p>\n",
       "</div>"
      ],
      "text/plain": [
       "         0         1         2         3         4         5         6   \\\n",
       "0 -0.399119  0.158941  0.359732  0.228068  0.159714 -0.207584  0.134004   \n",
       "1 -0.336276  0.166866  0.342014  0.262606  0.164136 -0.224717  0.096579   \n",
       "2 -0.420846  0.223901  0.393886  0.224797  0.218427 -0.212202  0.068077   \n",
       "3 -0.289083  0.108173  0.360716  0.285431  0.112576 -0.234193  0.140126   \n",
       "4 -0.112917 -0.079539 -0.441825 -0.305480 -0.050707 -0.008546  0.021532   \n",
       "\n",
       "         7         8         9   ...        90        91        92        93  \\\n",
       "0  0.543855  0.025050 -0.325107  ...  0.170484 -0.273140  0.095198 -0.318184   \n",
       "1  0.560788  0.027813 -0.337145  ...  0.184495 -0.326959  0.055465 -0.336929   \n",
       "2  0.562208  0.083192 -0.379857  ...  0.202763 -0.359303  0.003417 -0.386649   \n",
       "3  0.515919  0.063611 -0.346667  ...  0.188285 -0.211973  0.068379 -0.213855   \n",
       "4  0.330980 -0.406877 -0.174533  ... -0.059573  0.336654  0.254896  0.076174   \n",
       "\n",
       "         94        95        96        97        98        99  \n",
       "0  0.163453  0.122348  0.247683 -0.236005 -0.194914  0.282765  \n",
       "1  0.214748  0.129013  0.143196 -0.229438 -0.223116  0.329272  \n",
       "2  0.212469  0.105330  0.176683 -0.254679 -0.274844  0.322174  \n",
       "3  0.148488  0.149818  0.147163 -0.230690 -0.248875  0.263275  \n",
       "4  0.471847  0.078860 -0.103664 -0.016158  0.224087 -0.314572  \n",
       "\n",
       "[5 rows x 100 columns]"
      ]
     },
     "execution_count": 218,
     "metadata": {},
     "output_type": "execute_result"
    }
   ],
   "source": [
    "n2_temp = np.asarray(X_train_vec1)\n",
    "X_train_vec_df = pd.DataFrame (n2_temp)\n",
    "X_train_vec_df.head(5)           #Showing Embeddings of X_train_corpus or X_train_all_documents and dimnension would be (doc,vector_size) i.e. (5k,100)\n",
    "                                #which can be used later for model training/ML task or with Vector Assembler in pyspark type df to convert into features_col_final\n"
   ]
  },
  {
   "cell_type": "code",
   "execution_count": 219,
   "metadata": {},
   "outputs": [
    {
     "data": {
      "text/plain": [
       "False"
      ]
     },
     "execution_count": 219,
     "metadata": {},
     "output_type": "execute_result"
    }
   ],
   "source": [
    "X_train_vec_df.isna()\n",
    "X_train_vec_df.isnull().values.any()"
   ]
  },
  {
   "cell_type": "markdown",
   "metadata": {},
   "source": [
    "### 2d Scatterplot of word2vec model dictionary/vocabularies vectorsized vector mapping to 2d- 2-components pca analysis"
   ]
  },
  {
   "cell_type": "markdown",
   "metadata": {},
   "source": [
    "### Recent Learning : Word2Vec Vectorization of Dictionary/Vocab is Completely unnecessary. I think this should mean Dictinary to Dictinary(100x100) representation in latent way. Additionally, PCA transformation of Dictionary from 47x100 to 47x2 just means same Dictionary is now 2 dimensional which can be plotted as well, and generally visualized in 2d or 3d(pca 3 component). However Only Upside of Ploting could be said that, sometime You could see how relevant dictionary word2vec model has created by quick visualization of it in 2d/3d space."
   ]
  },
  {
   "cell_type": "code",
   "execution_count": 220,
   "metadata": {},
   "outputs": [],
   "source": [
    "X_train_vec = n_temp.tolist()\n",
    "words = filtered_sentence"
   ]
  },
  {
   "cell_type": "code",
   "execution_count": 221,
   "metadata": {},
   "outputs": [],
   "source": [
    "# run PCA with 2 compopnent to visualize page category embedding\n",
    "pca = PCA(n_components=2)\n",
    "result = pca.fit_transform(X_train_vec)"
   ]
  },
  {
   "cell_type": "code",
   "execution_count": 222,
   "metadata": {},
   "outputs": [
    {
     "data": {
      "image/png": "[encoded data removed]",
      "text/plain": [
       "<Figure size 500x500 with 1 Axes>"
      ]
     },
     "metadata": {},
     "output_type": "display_data"
    }
   ],
   "source": [
    "# plotting with page-categories\n",
    "# create a scatter plot of the projection\n",
    "plt.figure(figsize=(5,5))\n",
    "plt.scatter(result[:, 0], result[:, 1])\n",
    "\n",
    "for i,page_category in enumerate(words):\n",
    "    plt.annotate(page_category,horizontalalignment='right', verticalalignment='top',xy=(result[i, 0], result[i, 1]))\n",
    "\n",
    "plt.show()"
   ]
  },
  {
   "cell_type": "code",
   "execution_count": 223,
   "metadata": {},
   "outputs": [],
   "source": [
    "#We can save our existing models and load them again\n",
    "w2v_model2.save(\"word2vec.model\")\n"
   ]
  },
  {
   "cell_type": "markdown",
   "metadata": {},
   "source": [
    "### 3d plot of word2vec model dictionary/vocabularies vectorsized vector mapping to 3d 3-components pca analysis"
   ]
  },
  {
   "cell_type": "code",
   "execution_count": 224,
   "metadata": {},
   "outputs": [],
   "source": [
    "X_train_vec = n_temp.tolist()\n",
    "words = filtered_sentence"
   ]
  },
  {
   "cell_type": "code",
   "execution_count": 225,
   "metadata": {},
   "outputs": [],
   "source": [
    "# run PCA with 2 compopnent to visualize page category embedding\n",
    "pca = PCA(n_components=3)\n",
    "result = pca.fit_transform(X_train_vec)\n"
   ]
  },
  {
   "cell_type": "code",
   "execution_count": 226,
   "metadata": {},
   "outputs": [],
   "source": [
    "result_df = pd.DataFrame(result)\n",
    "x= result_df.iloc[:,0].to_numpy()\n",
    "y= result_df.iloc[:,1].to_numpy()\n",
    "z= result_df.iloc[:,2].to_numpy()"
   ]
  },
  {
   "cell_type": "code",
   "execution_count": 227,
   "metadata": {},
   "outputs": [
    {
     "data": {
      "image/png": "[encoded data removed]",
      "text/plain": [
       "<Figure size 640x480 with 1 Axes>"
      ]
     },
     "metadata": {},
     "output_type": "display_data"
    }
   ],
   "source": [
    "# importing mplot3d toolkits\n",
    "from mpl_toolkits import mplot3d\n",
    "import numpy as np\n",
    "import matplotlib.pyplot as plt\n",
    "\n",
    "\n",
    "\n",
    "# plotting with page-categories\n",
    "# create a scatter plot of the projection\n",
    "plt.figure()#figsize=(10,10,10))\n",
    "ax = plt.axes(projection ='3d')\n",
    "#plt.scatter(result[:, 0], result[:, 1])\n",
    "\n",
    "# for i,page_category in enumerate(words):\n",
    "#     plt.annotate(page_category,horizontalalignment='right', verticalalignment='top',xy=(result[i, 0], result[i, 1]))\n",
    "\n",
    "# plt.show()\n",
    "\n",
    "# defining all 3 axis\n",
    "z\n",
    "x\n",
    "y\n",
    "\n",
    "ax.scatter(x, y, z, c=z, alpha=1)\n",
    "\n",
    "for x, y, z, label in zip(x, y, z, filtered_sentence):\n",
    "    ax.text(x, y, z, label)\n",
    "\n",
    "# syntax for plotting\n",
    "ax.set_title('3d Scatter plot geeks for geeks')\n",
    "plt.show()"
   ]
  },
  {
   "cell_type": "markdown",
   "metadata": {},
   "source": [
    "### Testing whathappens if unknown token appeared in document while using pretrained word2vec model"
   ]
  },
  {
   "cell_type": "code",
   "execution_count": 228,
   "metadata": {},
   "outputs": [],
   "source": [
    "df4 = X_test.head()\n",
    "l1 = ['shahrukhkhan']\n",
    "l2 = ['great', 'movie','of', 'salman']\n",
    "df4.iloc[2] = l1\n",
    "df4.iloc[3] = l2\n",
    "df5 = df4"
   ]
  },
  {
   "cell_type": "code",
   "execution_count": 229,
   "metadata": {},
   "outputs": [
    {
     "data": {
      "text/plain": [
       "4954    [friday, hung, out, with, kelsie, and, we, wen...\n",
       "3285                          [love, brokeback, mountain]\n",
       "3433                                       [shahrukhkhan]\n",
       "7079                           [great, movie, of, salman]\n",
       "4786                         [da, vinci, code, sucks, be]\n",
       "Name: Review, dtype: object"
      ]
     },
     "execution_count": 229,
     "metadata": {},
     "output_type": "execute_result"
    }
   ],
   "source": [
    "df5"
   ]
  },
  {
   "cell_type": "code",
   "execution_count": 230,
   "metadata": {},
   "outputs": [],
   "source": [
    "df5_vec1 = sentence_vectorizer(df5,w2v_model1)"
   ]
  },
  {
   "cell_type": "code",
   "execution_count": 231,
   "metadata": {},
   "outputs": [
    {
     "data": {
      "text/html": [
       "<div>\n",
       "<style scoped>\n",
       "    .dataframe tbody tr th:only-of-type {\n",
       "        vertical-align: middle;\n",
       "    }\n",
       "\n",
       "    .dataframe tbody tr th {\n",
       "        vertical-align: top;\n",
       "    }\n",
       "\n",
       "    .dataframe thead th {\n",
       "        text-align: right;\n",
       "    }\n",
       "</style>\n",
       "<table border=\"1\" class=\"dataframe\">\n",
       "  <thead>\n",
       "    <tr style=\"text-align: right;\">\n",
       "      <th></th>\n",
       "      <th>0</th>\n",
       "      <th>1</th>\n",
       "      <th>2</th>\n",
       "      <th>3</th>\n",
       "      <th>4</th>\n",
       "      <th>5</th>\n",
       "      <th>6</th>\n",
       "      <th>7</th>\n",
       "      <th>8</th>\n",
       "      <th>9</th>\n",
       "      <th>...</th>\n",
       "      <th>90</th>\n",
       "      <th>91</th>\n",
       "      <th>92</th>\n",
       "      <th>93</th>\n",
       "      <th>94</th>\n",
       "      <th>95</th>\n",
       "      <th>96</th>\n",
       "      <th>97</th>\n",
       "      <th>98</th>\n",
       "      <th>99</th>\n",
       "    </tr>\n",
       "  </thead>\n",
       "  <tbody>\n",
       "    <tr>\n",
       "      <th>0</th>\n",
       "      <td>-0.437499</td>\n",
       "      <td>0.104781</td>\n",
       "      <td>0.090866</td>\n",
       "      <td>0.146044</td>\n",
       "      <td>0.192970</td>\n",
       "      <td>-0.173747</td>\n",
       "      <td>0.109635</td>\n",
       "      <td>0.477716</td>\n",
       "      <td>0.007434</td>\n",
       "      <td>-0.198393</td>\n",
       "      <td>...</td>\n",
       "      <td>0.121593</td>\n",
       "      <td>-0.221988</td>\n",
       "      <td>0.201425</td>\n",
       "      <td>-0.299707</td>\n",
       "      <td>0.145762</td>\n",
       "      <td>0.008173</td>\n",
       "      <td>0.255272</td>\n",
       "      <td>-0.096319</td>\n",
       "      <td>-0.104559</td>\n",
       "      <td>0.262503</td>\n",
       "    </tr>\n",
       "    <tr>\n",
       "      <th>1</th>\n",
       "      <td>0.465822</td>\n",
       "      <td>-0.016118</td>\n",
       "      <td>0.062622</td>\n",
       "      <td>0.229457</td>\n",
       "      <td>-0.132503</td>\n",
       "      <td>-0.053649</td>\n",
       "      <td>0.419088</td>\n",
       "      <td>0.149471</td>\n",
       "      <td>-0.189074</td>\n",
       "      <td>-0.310397</td>\n",
       "      <td>...</td>\n",
       "      <td>-0.034712</td>\n",
       "      <td>0.025156</td>\n",
       "      <td>-0.232582</td>\n",
       "      <td>0.184227</td>\n",
       "      <td>0.236372</td>\n",
       "      <td>-0.043449</td>\n",
       "      <td>-0.020389</td>\n",
       "      <td>-0.143340</td>\n",
       "      <td>0.213805</td>\n",
       "      <td>0.054710</td>\n",
       "    </tr>\n",
       "    <tr>\n",
       "      <th>2</th>\n",
       "      <td>0.000000</td>\n",
       "      <td>0.000000</td>\n",
       "      <td>0.000000</td>\n",
       "      <td>0.000000</td>\n",
       "      <td>0.000000</td>\n",
       "      <td>0.000000</td>\n",
       "      <td>0.000000</td>\n",
       "      <td>0.000000</td>\n",
       "      <td>0.000000</td>\n",
       "      <td>0.000000</td>\n",
       "      <td>...</td>\n",
       "      <td>0.000000</td>\n",
       "      <td>0.000000</td>\n",
       "      <td>0.000000</td>\n",
       "      <td>0.000000</td>\n",
       "      <td>0.000000</td>\n",
       "      <td>0.000000</td>\n",
       "      <td>0.000000</td>\n",
       "      <td>0.000000</td>\n",
       "      <td>0.000000</td>\n",
       "      <td>0.000000</td>\n",
       "    </tr>\n",
       "    <tr>\n",
       "      <th>3</th>\n",
       "      <td>0.421011</td>\n",
       "      <td>0.062277</td>\n",
       "      <td>0.289744</td>\n",
       "      <td>0.230405</td>\n",
       "      <td>0.143519</td>\n",
       "      <td>-0.095188</td>\n",
       "      <td>0.497248</td>\n",
       "      <td>0.950993</td>\n",
       "      <td>-0.420172</td>\n",
       "      <td>-0.165773</td>\n",
       "      <td>...</td>\n",
       "      <td>-0.143061</td>\n",
       "      <td>-0.030120</td>\n",
       "      <td>0.353847</td>\n",
       "      <td>0.064975</td>\n",
       "      <td>0.770944</td>\n",
       "      <td>0.016838</td>\n",
       "      <td>-0.005240</td>\n",
       "      <td>0.022564</td>\n",
       "      <td>0.351968</td>\n",
       "      <td>0.113165</td>\n",
       "    </tr>\n",
       "    <tr>\n",
       "      <th>4</th>\n",
       "      <td>-0.797267</td>\n",
       "      <td>0.391057</td>\n",
       "      <td>0.281105</td>\n",
       "      <td>0.252967</td>\n",
       "      <td>0.224226</td>\n",
       "      <td>-0.099008</td>\n",
       "      <td>0.146112</td>\n",
       "      <td>0.576362</td>\n",
       "      <td>-0.170465</td>\n",
       "      <td>-0.305860</td>\n",
       "      <td>...</td>\n",
       "      <td>0.060098</td>\n",
       "      <td>-0.337542</td>\n",
       "      <td>0.122671</td>\n",
       "      <td>-0.488787</td>\n",
       "      <td>0.252205</td>\n",
       "      <td>0.028998</td>\n",
       "      <td>0.314349</td>\n",
       "      <td>-0.255063</td>\n",
       "      <td>-0.198379</td>\n",
       "      <td>0.178692</td>\n",
       "    </tr>\n",
       "  </tbody>\n",
       "</table>\n",
       "<p>5 rows × 100 columns</p>\n",
       "</div>"
      ],
      "text/plain": [
       "         0         1         2         3         4         5         6   \\\n",
       "0 -0.437499  0.104781  0.090866  0.146044  0.192970 -0.173747  0.109635   \n",
       "1  0.465822 -0.016118  0.062622  0.229457 -0.132503 -0.053649  0.419088   \n",
       "2  0.000000  0.000000  0.000000  0.000000  0.000000  0.000000  0.000000   \n",
       "3  0.421011  0.062277  0.289744  0.230405  0.143519 -0.095188  0.497248   \n",
       "4 -0.797267  0.391057  0.281105  0.252967  0.224226 -0.099008  0.146112   \n",
       "\n",
       "         7         8         9   ...        90        91        92        93  \\\n",
       "0  0.477716  0.007434 -0.198393  ...  0.121593 -0.221988  0.201425 -0.299707   \n",
       "1  0.149471 -0.189074 -0.310397  ... -0.034712  0.025156 -0.232582  0.184227   \n",
       "2  0.000000  0.000000  0.000000  ...  0.000000  0.000000  0.000000  0.000000   \n",
       "3  0.950993 -0.420172 -0.165773  ... -0.143061 -0.030120  0.353847  0.064975   \n",
       "4  0.576362 -0.170465 -0.305860  ...  0.060098 -0.337542  0.122671 -0.488787   \n",
       "\n",
       "         94        95        96        97        98        99  \n",
       "0  0.145762  0.008173  0.255272 -0.096319 -0.104559  0.262503  \n",
       "1  0.236372 -0.043449 -0.020389 -0.143340  0.213805  0.054710  \n",
       "2  0.000000  0.000000  0.000000  0.000000  0.000000  0.000000  \n",
       "3  0.770944  0.016838 -0.005240  0.022564  0.351968  0.113165  \n",
       "4  0.252205  0.028998  0.314349 -0.255063 -0.198379  0.178692  \n",
       "\n",
       "[5 rows x 100 columns]"
      ]
     },
     "execution_count": 231,
     "metadata": {},
     "output_type": "execute_result"
    }
   ],
   "source": [
    "n3_temp = np.asarray(df5_vec1)\n",
    "df5_vec1_vec_df = pd.DataFrame (n3_temp)\n",
    "df5_vec1_vec_df.head(5)           #Showing Embeddings of X_train_corpus or X_train_all_documents and dimnension would be (doc,vector_size) i.e. (5k,100)\n",
    "                                #which can be used later for model training/ML task or with Vector Assembler in pyspark type df to convert into features_col_final\n"
   ]
  },
  {
   "cell_type": "code",
   "execution_count": 232,
   "metadata": {},
   "outputs": [
    {
     "data": {
      "text/plain": [
       "False"
      ]
     },
     "execution_count": 232,
     "metadata": {},
     "output_type": "execute_result"
    }
   ],
   "source": [
    "df5_vec1_vec_df.isna()\n",
    "df5_vec1_vec_df.isnull().values.any()"
   ]
  }
 ],
 "metadata": {
  "kernelspec": {
   "display_name": "vscodeProject2venv",
   "language": "python",
   "name": "python3"
  },
  "language_info": {
   "codemirror_mode": {
    "name": "ipython",
    "version": 3
   },
   "file_extension": ".py",
   "mimetype": "text/x-python",
   "name": "python",
   "nbconvert_exporter": "python",
   "pygments_lexer": "ipython3",
   "version": "3.10.11"
  }
 },
 "nbformat": 4,
 "nbformat_minor": 4
}
